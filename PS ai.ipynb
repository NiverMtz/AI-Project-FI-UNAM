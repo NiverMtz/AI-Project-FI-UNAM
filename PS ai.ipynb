{
 "cells": [
  {
   "cell_type": "code",
   "execution_count": 1,
   "metadata": {},
   "outputs": [],
   "source": [
    "#Import personality Insights SDK\n",
    "from watson_developer_cloud import PersonalityInsightsV3"
   ]
  },
  {
   "cell_type": "code",
   "execution_count": 2,
   "metadata": {},
   "outputs": [],
   "source": [
    "#import json\n",
    "import json\n",
    "\n",
    "from googletrans import Translator"
   ]
  },
  {
   "cell_type": "code",
   "execution_count": 3,
   "metadata": {},
   "outputs": [],
   "source": [
    "url='https://api.us-south.personality-insights.watson.cloud.ibm.com/instances/c6aa4e32-e9be-4d4e-8ce3-8b8abf5aa155'"
   ]
  },
  {
   "cell_type": "code",
   "execution_count": 4,
   "metadata": {},
   "outputs": [],
   "source": [
    "apikey='-P2pUTGEF30hXdiS4iUQH05400USV7imPKkZa9aN82Zq'"
   ]
  },
  {
   "cell_type": "code",
   "execution_count": 5,
   "metadata": {},
   "outputs": [
    {
     "name": "stderr",
     "output_type": "stream",
     "text": [
      "C:\\Users\\niver\\Anaconda3\\lib\\site-packages\\ipykernel_launcher.py:1: DeprecationWarning: watson-developer-cloud moved to ibm-watson. To get updates, use the new package.\n",
      "  \"\"\"Entry point for launching an IPython kernel.\n"
     ]
    }
   ],
   "source": [
    "service = PersonalityInsightsV3(url=url, iam_apikey=apikey, version='2020-05-30')"
   ]
  },
  {
   "cell_type": "code",
   "execution_count": 6,
   "metadata": {},
   "outputs": [],
   "source": [
    "#Leer y convertir a cadena el archivo.\n",
    "file =  open('prueba3.txt','r')\n",
    "text = file.read()\n",
    "\n",
    "#Traducir el archivo\n",
    "#translator = Translator()\n",
    "#translated = translator.translate(text, src='en', dest='es')\n",
    "#print(translated.text)"
   ]
  },
  {
   "cell_type": "code",
   "execution_count": 7,
   "metadata": {},
   "outputs": [
    {
     "data": {
      "text/plain": [
       "'I live in a state where things are still very much on lockdown because of COVID, despite the rates being down to almost nothing.\\n\\nThe lockdown keeps getting extended while data is showing a sharp increase in suicides. The goal of the lockdown was to not overfill hospitals... they’re almost completely devoid of COVID patients now. Yet here we are, extending the lockdown.\\n\\nIt’s just one more indicator of the fact that this country doesn’t take mental health seriously and it never has. If you are struggling, good fucking luck to you. Here’s a phone number. Feel better, kay?\\n\\nI don’t care to argue the merits of the lockdown, I know to an extent it was necessary. But we are far beyond that now and many people, like me and possibly like you, are struggling with suicidal thoughts and trying not to make that permanent decision due to the fact that our coping mechanisms have been taken away for months now.'"
      ]
     },
     "execution_count": 7,
     "metadata": {},
     "output_type": "execute_result"
    }
   ],
   "source": [
    "\"\"\"I live in a state where things are still very much on lockdown because of COVID, despite the rates being down to almost nothing.\n",
    "\n",
    "The lockdown keeps getting extended while data is showing a sharp increase in suicides. The goal of the lockdown was to not overfill hospitals... they’re almost completely devoid of COVID patients now. Yet here we are, extending the lockdown.\n",
    "\n",
    "It’s just one more indicator of the fact that this country doesn’t take mental health seriously and it never has. If you are struggling, good fucking luck to you. Here’s a phone number. Feel better, kay?\n",
    "\n",
    "I don’t care to argue the merits of the lockdown, I know to an extent it was necessary. But we are far beyond that now and many people, like me and possibly like you, are struggling with suicidal thoughts and trying not to make that permanent decision due to the fact that our coping mechanisms have been taken away for months now.\"\"\""
   ]
  },
  {
   "cell_type": "code",
   "execution_count": 8,
   "metadata": {},
   "outputs": [],
   "source": [
    "profile = service.profile(text, content_type = 'text/plain').get_result()"
   ]
  },
  {
   "cell_type": "code",
   "execution_count": 9,
   "metadata": {},
   "outputs": [],
   "source": [
    "#profile['warnings']"
   ]
  },
  {
   "cell_type": "code",
   "execution_count": 10,
   "metadata": {},
   "outputs": [],
   "source": [
    "#print(json.dumps(profile, indent=2))"
   ]
  },
  {
   "cell_type": "code",
   "execution_count": 11,
   "metadata": {},
   "outputs": [],
   "source": [
    "#profile['personality']"
   ]
  },
  {
   "cell_type": "code",
   "execution_count": 12,
   "metadata": {},
   "outputs": [],
   "source": [
    "#profile.keys()"
   ]
  },
  {
   "cell_type": "code",
   "execution_count": 13,
   "metadata": {},
   "outputs": [],
   "source": [
    "#profile['processed_language']"
   ]
  },
  {
   "cell_type": "code",
   "execution_count": 14,
   "metadata": {},
   "outputs": [],
   "source": [
    "#profile['needs']"
   ]
  },
  {
   "cell_type": "code",
   "execution_count": 15,
   "metadata": {},
   "outputs": [],
   "source": [
    "#profile['personality']"
   ]
  },
  {
   "cell_type": "code",
   "execution_count": 16,
   "metadata": {},
   "outputs": [],
   "source": [
    "#profile"
   ]
  },
  {
   "cell_type": "markdown",
   "metadata": {},
   "source": [
    "# Visualización del perfil"
   ]
  },
  {
   "cell_type": "code",
   "execution_count": 17,
   "metadata": {},
   "outputs": [],
   "source": [
    "#import pandas\n",
    "import pandas as pd\n",
    "\n",
    "#import matplotlib\n",
    "from matplotlib import pyplot as plt\n",
    "\n",
    "#import seaborn\n",
    "import seaborn as sns"
   ]
  },
  {
   "cell_type": "code",
   "execution_count": 18,
   "metadata": {},
   "outputs": [],
   "source": [
    "result = {need['name']:need['percentile'] for need in profile['personality']}"
   ]
  },
  {
   "cell_type": "code",
   "execution_count": 19,
   "metadata": {},
   "outputs": [],
   "source": [
    "#type(result)"
   ]
  },
  {
   "cell_type": "code",
   "execution_count": 20,
   "metadata": {},
   "outputs": [],
   "source": [
    "df = pd.DataFrame.from_dict(result, orient='index')"
   ]
  },
  {
   "cell_type": "code",
   "execution_count": 21,
   "metadata": {},
   "outputs": [],
   "source": [
    "#df"
   ]
  },
  {
   "cell_type": "code",
   "execution_count": 22,
   "metadata": {},
   "outputs": [],
   "source": [
    "df.reset_index(inplace=True)"
   ]
  },
  {
   "cell_type": "code",
   "execution_count": 23,
   "metadata": {},
   "outputs": [],
   "source": [
    "#df"
   ]
  },
  {
   "cell_type": "code",
   "execution_count": 24,
   "metadata": {},
   "outputs": [],
   "source": [
    "df.columns=['personality','percentile']"
   ]
  },
  {
   "cell_type": "code",
   "execution_count": 25,
   "metadata": {},
   "outputs": [],
   "source": [
    "#df"
   ]
  },
  {
   "cell_type": "code",
   "execution_count": 26,
   "metadata": {},
   "outputs": [
    {
     "data": {
      "image/png": "[encoded data removed]",
      "text/plain": [
       "<Figure size 1080x360 with 1 Axes>"
      ]
     },
     "metadata": {
      "needs_background": "light"
     },
     "output_type": "display_data"
    }
   ],
   "source": [
    "plt.figure(figsize=[15,5])\n",
    "sns.barplot(y='percentile', x='personality', data=df)\n",
    "plt.show()"
   ]
  },
  {
   "cell_type": "code",
   "execution_count": null,
   "metadata": {},
   "outputs": [],
   "source": []
  }
 ],
 "metadata": {
  "kernelspec": {
   "display_name": "Python 3",
   "language": "python",
   "name": "python3"
  },
  "language_info": {
   "codemirror_mode": {
    "name": "ipython",
    "version": 3
   },
   "file_extension": ".py",
   "mimetype": "text/x-python",
   "name": "python",
   "nbconvert_exporter": "python",
   "pygments_lexer": "ipython3",
   "version": "3.7.4"
  }
 },
 "nbformat": 4,
 "nbformat_minor": 2
}
